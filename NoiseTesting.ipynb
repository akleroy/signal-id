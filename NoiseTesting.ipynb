{
 "metadata": {
  "name": ""
 },
 "nbformat": 3,
 "nbformat_minor": 0,
 "worksheets": [
  {
   "cells": [
    {
     "cell_type": "code",
     "collapsed": false,
     "input": [
      "%matplotlib inline\n",
      "import matplotlib.pyplot as plt\n",
      "import numpy as np\n",
      "import astropy.io.fits as fits\n",
      "import scipy.stats as ss\n",
      "import noise"
     ],
     "language": "python",
     "metadata": {},
     "outputs": [],
     "prompt_number": 1
    },
    {
     "cell_type": "markdown",
     "metadata": {},
     "source": [
      "This builds a trial noise cube with a powerlaw behavior on the spectral axis (axis=0) and "
     ]
    },
    {
     "cell_type": "code",
     "collapsed": false,
     "input": [
      "#input_file = '/Users/erosolo/code/noodle/m33.co32.fits'\n",
      "#noisecube = fits.getdata(input_file)\n",
      "#noisecube[np.isnan(noisecube)]=0.0\n",
      "\n",
      "noisecube = 3*np.random.randn(70,50,60)\n",
      "z,x,y = np.meshgrid((np.linspace(-30,30,70)),\n",
      "                    (np.linspace(-25,25,50)),\n",
      "                    (np.linspace(-35,35,60)),indexing='ij')\n",
      "noisecube = noisecube*np.exp((x**2+y**2)/(2*40.**2))*(z/70+3)**1.2\n",
      "source = np.exp(-(x**2+y**2)/(2*3.**2))*100*np.exp(-z**2/(2*3**2))\n",
      "noisecube = noisecube+source"
     ],
     "language": "python",
     "metadata": {},
     "outputs": [],
     "prompt_number": 2
    },
    {
     "cell_type": "markdown",
     "metadata": {},
     "source": [
      "Noise object naively estimates the shape of the distribution parameters given input data."
     ]
    },
    {
     "cell_type": "code",
     "collapsed": false,
     "input": [
      "noiseobj = noise.Noise(noisecube)\n",
      "noiseobj.distribution_shape"
     ],
     "language": "python",
     "metadata": {},
     "outputs": [
      {
       "metadata": {},
       "output_type": "pyout",
       "prompt_number": 3,
       "text": [
        "(0.25481935113027754, 14.247877821704217)"
       ]
      }
     ],
     "prompt_number": 3
    },
    {
     "cell_type": "markdown",
     "metadata": {},
     "source": [
      "We can also specify an inappropriate distribution to describe the noise properties.  In this case we choose a gamma distribution to parameterize the distribution.  It nonetheless can be made to fit the data."
     ]
    },
    {
     "cell_type": "code",
     "collapsed": false,
     "input": [
      "#noiseobj.distribution = ss.gamma\n",
      "#noiseobj.calculate_fit()\n",
      "#noiseobj.distribution_shape"
     ],
     "language": "python",
     "metadata": {},
     "outputs": [],
     "prompt_number": 4
    },
    {
     "cell_type": "markdown",
     "metadata": {},
     "source": [
      "We can also draw a trial noise cube from this distribution."
     ]
    },
    {
     "cell_type": "code",
     "collapsed": false,
     "input": [
      "#vals = noiseobj.cube_of_noise()\n",
      "#p.hist(vals.ravel(),bins=100)"
     ],
     "language": "python",
     "metadata": {},
     "outputs": [],
     "prompt_number": 5
    },
    {
     "cell_type": "code",
     "collapsed": false,
     "input": [
      "#noiseobj.plot_noise()"
     ],
     "language": "python",
     "metadata": {},
     "outputs": [],
     "prompt_number": 6
    },
    {
     "cell_type": "code",
     "collapsed": false,
     "input": [
      "noiseobj.calculate_mad()"
     ],
     "language": "python",
     "metadata": {},
     "outputs": [],
     "prompt_number": 7
    },
    {
     "cell_type": "code",
     "collapsed": false,
     "input": [
      "#p.plot(noiseobj.spectral_norm)"
     ],
     "language": "python",
     "metadata": {},
     "outputs": [],
     "prompt_number": 8
    },
    {
     "cell_type": "code",
     "collapsed": false,
     "input": [
      "plt.imshow(noiseobj.spatial_norm,vmin=0.8,vmax=1.2,interpolation='nearest')\n",
      "plt.colorbar()"
     ],
     "language": "python",
     "metadata": {},
     "outputs": [
      {
       "metadata": {},
       "output_type": "pyout",
       "prompt_number": 9,
       "text": [
        "<matplotlib.colorbar.Colorbar instance at 0x1065957a0>"
       ]
      },
      {
       "metadata": {},
       "output_type": "display_data",
       "png": "[encoded data removed]",
       "text": [
        "<matplotlib.figure.Figure at 0x10653d850>"
       ]
      }
     ],
     "prompt_number": 9
    },
    {
     "cell_type": "code",
     "collapsed": false,
     "input": [
      "noiseobj.rolling_shape_fit(boxsize=8)"
     ],
     "language": "python",
     "metadata": {},
     "outputs": [],
     "prompt_number": 17
    },
    {
     "cell_type": "code",
     "collapsed": false,
     "input": [
      "plt.imshow(noiseobj.distribution_shape_map[:,:,0,1],interpolation='nearest')"
     ],
     "language": "python",
     "metadata": {},
     "outputs": [
      {
       "metadata": {},
       "output_type": "pyout",
       "prompt_number": 18,
       "text": [
        "<matplotlib.image.AxesImage at 0x107e64050>"
       ]
      },
      {
       "metadata": {},
       "output_type": "display_data",
       "png": "[encoded data removed]",
       "text": [
        "<matplotlib.figure.Figure at 0x10736ebd0>"
       ]
      }
     ],
     "prompt_number": 18
    },
    {
     "cell_type": "code",
     "collapsed": false,
     "input": [],
     "language": "python",
     "metadata": {},
     "outputs": [
      {
       "ename": "SyntaxError",
       "evalue": "unexpected EOF while parsing (<ipython-input-12-bbf1cca285c8>, line 1)",
       "output_type": "pyerr",
       "traceback": [
        "\u001b[0;36m  File \u001b[0;32m\"<ipython-input-12-bbf1cca285c8>\"\u001b[0;36m, line \u001b[0;32m1\u001b[0m\n\u001b[0;31m    np.arange(\u001b[0m\n\u001b[0m              ^\u001b[0m\n\u001b[0;31mSyntaxError\u001b[0m\u001b[0;31m:\u001b[0m unexpected EOF while parsing\n"
       ]
      }
     ],
     "prompt_number": 12
    }
   ],
   "metadata": {}
  }
 ]
}